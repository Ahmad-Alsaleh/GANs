{
 "cells": [
  {
   "cell_type": "code",
   "execution_count": 1,
   "metadata": {},
   "outputs": [],
   "source": [
    "import torch\n",
    "import torch.nn as nn\n",
    "import torch.optim as optim\n",
    "import torchvision.transforms as transforms\n",
    "from torch.utils.data import Dataset, DataLoader, random_split\n",
    "from torchvision.utils import save_image\n",
    "import os\n",
    "import random\n",
    "from PIL import Image\n",
    "import numpy as np\n",
    "from tqdm import tqdm\n",
    "import json\n",
    "from matplotlib import pyplot as plt\n",
    "from torch.cuda.amp import autocast, GradScaler"
   ]
  },
  {
   "cell_type": "code",
   "execution_count": 2,
   "metadata": {},
   "outputs": [],
   "source": [
    "class SketchDataset(Dataset):\n",
    "    def __init__(self, bad_sketch_dir, good_sketch_dir):\n",
    "        self.bad_sketch_paths = sorted(\n",
    "            [os.path.join(bad_sketch_dir, x) for x in os.listdir(bad_sketch_dir)]\n",
    "        )\n",
    "        self.good_sketch_paths = sorted(\n",
    "            [os.path.join(good_sketch_dir, x) for x in os.listdir(good_sketch_dir)]\n",
    "        )\n",
    "        self.transform = transforms.Compose(\n",
    "            [\n",
    "                transforms.Grayscale(),\n",
    "                transforms.Resize((256, 256)),\n",
    "                transforms.ToTensor(),\n",
    "                transforms.Normalize((0.5,), (0.5,)),\n",
    "            ]\n",
    "        )\n",
    "\n",
    "        self.transform_augment = transforms.Compose(\n",
    "            [\n",
    "                transforms.Grayscale(num_output_channels=1),\n",
    "                transforms.RandomHorizontalFlip(),\n",
    "                transforms.RandomAffine(10, shear=10, scale=(0.8, 1.2), fill=255),\n",
    "                transforms.ToTensor(),\n",
    "                transforms.Normalize((0.5,), (0.5,)),\n",
    "            ]\n",
    "        )\n",
    "\n",
    "    def __getitem__(self, index):\n",
    "        bad_sketch = Image.open(\n",
    "            self.bad_sketch_paths[index % len(self.bad_sketch_paths)]\n",
    "        )\n",
    "\n",
    "        good_sketch = Image.open(random.choice(self.good_sketch_paths))\n",
    "\n",
    "        bad_sketch = self.transform(bad_sketch)\n",
    "        good_sketch = self.transform(good_sketch)\n",
    "\n",
    "        return {\"A\": bad_sketch, \"B\": good_sketch}\n",
    "\n",
    "    def __len__(self):\n",
    "        return len(self.bad_sketch_paths)"
   ]
  },
  {
   "cell_type": "code",
   "execution_count": 3,
   "metadata": {},
   "outputs": [],
   "source": [
    "# Residual Block\n",
    "class ResidualBlock(nn.Module):\n",
    "    def __init__(self, channels):\n",
    "        super().__init__()\n",
    "        self.block = nn.Sequential(\n",
    "            nn.Conv2d(channels, channels, 3, padding=1),\n",
    "            nn.InstanceNorm2d(channels),\n",
    "            nn.ReLU(inplace=True),\n",
    "            nn.Conv2d(channels, channels, 3, padding=1),\n",
    "            nn.InstanceNorm2d(channels),\n",
    "        )\n",
    "\n",
    "    def forward(self, x):\n",
    "        return x + self.block(x)\n",
    "\n",
    "\n",
    "class Generator(nn.Module):\n",
    "    def __init__(self):\n",
    "        super().__init__()\n",
    "        # Initial convolution block\n",
    "        self.conv1 = nn.Sequential(\n",
    "            nn.Conv2d(1, 64, kernel_size=7, stride=1, padding=3),\n",
    "            nn.InstanceNorm2d(64),\n",
    "            nn.ReLU(inplace=True),\n",
    "        )\n",
    "\n",
    "        # Downsampling blocks\n",
    "        self.down_blocks = nn.Sequential(\n",
    "            self._make_layer(64, 128), self._make_layer(128, 256)\n",
    "        )\n",
    "\n",
    "        # Residual blocks\n",
    "        self.res_blocks = nn.Sequential(*[ResidualBlock(256) for _ in range(9)])\n",
    "\n",
    "        # Upsampling blocks\n",
    "        self.up_blocks = nn.Sequential(\n",
    "            self._make_layer(256, 128, upsample=True),\n",
    "            self._make_layer(128, 64, upsample=True),\n",
    "        )\n",
    "\n",
    "        # Output convolution\n",
    "        self.conv2 = nn.Sequential(\n",
    "            nn.Conv2d(64, 1, kernel_size=7, stride=1, padding=3), nn.Tanh()\n",
    "        )\n",
    "\n",
    "    def _make_layer(self, in_channels, out_channels, upsample=False):\n",
    "        if upsample:\n",
    "            return nn.Sequential(\n",
    "                nn.ConvTranspose2d(\n",
    "                    in_channels, out_channels, 3, stride=2, padding=1, output_padding=1\n",
    "                ),\n",
    "                nn.InstanceNorm2d(out_channels),\n",
    "                nn.ReLU(inplace=True),\n",
    "            )\n",
    "        return nn.Sequential(\n",
    "            nn.Conv2d(in_channels, out_channels, 3, stride=2, padding=1),\n",
    "            nn.InstanceNorm2d(out_channels),\n",
    "            nn.ReLU(inplace=True),\n",
    "        )\n",
    "\n",
    "    def forward(self, x):\n",
    "        x = self.conv1(x)\n",
    "        x = self.down_blocks(x)\n",
    "        x = self.res_blocks(x)\n",
    "        x = self.up_blocks(x)\n",
    "        return self.conv2(x)\n",
    "\n",
    "\n",
    "# Discriminator Network\n",
    "class Discriminator(nn.Module):\n",
    "    def __init__(self):\n",
    "        super().__init__()\n",
    "        self.model = nn.Sequential(\n",
    "            nn.Conv2d(1, 64, 4, stride=2, padding=1),\n",
    "            nn.LeakyReLU(0.2, inplace=True),\n",
    "            nn.Conv2d(64, 128, 4, stride=2, padding=1),\n",
    "            nn.InstanceNorm2d(128),\n",
    "            nn.LeakyReLU(0.2, inplace=True),\n",
    "            nn.Conv2d(128, 256, 4, stride=2, padding=1),\n",
    "            nn.InstanceNorm2d(256),\n",
    "            nn.LeakyReLU(0.2, inplace=True),\n",
    "            nn.Conv2d(256, 512, 4, padding=1),\n",
    "            nn.InstanceNorm2d(512),\n",
    "            nn.LeakyReLU(0.2, inplace=True),\n",
    "            nn.Conv2d(512, 1, 4, padding=1),\n",
    "        )\n",
    "\n",
    "    def forward(self, x):\n",
    "        return self.model(x)"
   ]
  },
  {
   "cell_type": "code",
   "execution_count": 4,
   "metadata": {},
   "outputs": [],
   "source": [
    "# Training class for each sketch category\n",
    "class SketchEnhancer:\n",
    "    def __init__(\n",
    "        self,\n",
    "        class_name,\n",
    "        train_set,\n",
    "        val_set,\n",
    "        test_set,\n",
    "        batch_size=64,\n",
    "        device=\"cuda\",\n",
    "        log_dir=\"logs\",\n",
    "    ):\n",
    "        self.class_name = class_name\n",
    "        self.device = device\n",
    "        self.log_dir = os.path.join(log_dir, class_name)\n",
    "        os.makedirs(self.log_dir, exist_ok=True)\n",
    "\n",
    "        # Initialize networks\n",
    "        self.G_AB = Generator().to(device)\n",
    "        self.G_BA = Generator().to(device)\n",
    "        self.D_A = Discriminator().to(device)\n",
    "        self.D_B = Discriminator().to(device)\n",
    "\n",
    "        # Initialize optimizers\n",
    "        self.g_optimizer = optim.Adam(\n",
    "            list(self.G_AB.parameters()) + list(self.G_BA.parameters()),\n",
    "            lr=0.0002,\n",
    "            betas=(0.5, 0.999),\n",
    "        )\n",
    "        self.d_optimizer = optim.Adam(\n",
    "            list(self.D_A.parameters()) + list(self.D_B.parameters()),\n",
    "            lr=0.0002,\n",
    "            betas=(0.5, 0.999),\n",
    "        )\n",
    "\n",
    "        # Loss functions\n",
    "        self.criterion_GAN = nn.MSELoss()\n",
    "        self.criterion_cycle = nn.L1Loss()\n",
    "        self.criterion_identity = nn.L1Loss()\n",
    "\n",
    "        self.train_loader = DataLoader(train_set, batch_size=batch_size, shuffle=True)\n",
    "        self.val_loader = DataLoader(val_set, batch_size=batch_size, shuffle=True)\n",
    "        self.test_loader = DataLoader(test_set, batch_size=batch_size, shuffle=False)\n",
    "\n",
    "        self.g_scaler = GradScaler()\n",
    "        self.d_scaler = GradScaler()\n",
    "\n",
    "        # Initialize training history\n",
    "        self.history = {\n",
    "            \"train_losses\": [],\n",
    "            \"val_losses\": [],\n",
    "            \"best_val_loss\": float(\"inf\"),\n",
    "        }\n",
    "\n",
    "    def compute_losses(self, batch, use_amp=False):\n",
    "        real_A = batch[\"A\"].to(self.device)\n",
    "        real_B = batch[\"B\"].to(self.device)\n",
    "\n",
    "        with autocast(enabled=use_amp):\n",
    "            # Generate fake samples\n",
    "            fake_B = self.G_AB(real_A)\n",
    "            fake_A = self.G_BA(real_B)\n",
    "\n",
    "            # Reconstruct samples\n",
    "            rec_A = self.G_BA(fake_B)\n",
    "            rec_B = self.G_AB(fake_A)\n",
    "\n",
    "            # Identity mapping\n",
    "            id_A = self.G_BA(real_A)\n",
    "            id_B = self.G_AB(real_B)\n",
    "\n",
    "            # Calculate losses\n",
    "            loss_id_A = self.criterion_identity(id_A, real_A) * 5.0\n",
    "            loss_id_B = self.criterion_identity(id_B, real_B) * 5.0\n",
    "\n",
    "            # GAN losses\n",
    "            pred_fake_B = self.D_B(fake_B)\n",
    "            loss_GAN_AB = self.criterion_GAN(pred_fake_B, torch.ones_like(pred_fake_B))\n",
    "            pred_fake_A = self.D_A(fake_A)\n",
    "            loss_GAN_BA = self.criterion_GAN(pred_fake_A, torch.ones_like(pred_fake_A))\n",
    "\n",
    "            # Cycle losses\n",
    "            loss_cycle_A = self.criterion_cycle(rec_A, real_A) * 10.0\n",
    "            loss_cycle_B = self.criterion_cycle(rec_B, real_B) * 10.0\n",
    "\n",
    "            # Total losses\n",
    "            loss_G = (\n",
    "                loss_GAN_AB\n",
    "                + loss_GAN_BA\n",
    "                + loss_cycle_A\n",
    "                + loss_cycle_B\n",
    "                + loss_id_A\n",
    "                + loss_id_B\n",
    "            )\n",
    "\n",
    "            # Discriminator losses\n",
    "            pred_real_A = self.D_A(real_A)\n",
    "            loss_D_real_A = self.criterion_GAN(\n",
    "                pred_real_A, torch.ones_like(pred_real_A)\n",
    "            )\n",
    "            pred_real_B = self.D_B(real_B)\n",
    "            loss_D_real_B = self.criterion_GAN(\n",
    "                pred_real_B, torch.ones_like(pred_real_B)\n",
    "            )\n",
    "\n",
    "            pred_fake_A = self.D_A(fake_A.detach())\n",
    "            loss_D_fake_A = self.criterion_GAN(\n",
    "                pred_fake_A, torch.zeros_like(pred_fake_A)\n",
    "            )\n",
    "            pred_fake_B = self.D_B(fake_B.detach())\n",
    "            loss_D_fake_B = self.criterion_GAN(\n",
    "                pred_fake_B, torch.zeros_like(pred_fake_B)\n",
    "            )\n",
    "\n",
    "            loss_D = (loss_D_real_A + loss_D_fake_A) * 0.5 + (\n",
    "                loss_D_real_B + loss_D_fake_B\n",
    "            ) * 0.5\n",
    "\n",
    "        return {\n",
    "            \"loss_G\": loss_G,\n",
    "            \"loss_D\": loss_D,\n",
    "            \"loss_cycle\": loss_cycle_A + loss_cycle_B,\n",
    "            \"loss_identity\": loss_id_A + loss_id_B,\n",
    "            \"samples\": (real_A, fake_B, rec_A),\n",
    "        }\n",
    "\n",
    "    def validate(self):\n",
    "        self.G_AB.eval()\n",
    "        self.G_BA.eval()\n",
    "        self.D_A.eval()\n",
    "        self.D_B.eval()\n",
    "\n",
    "        val_losses = []\n",
    "        with torch.no_grad(), autocast():\n",
    "            for batch in self.val_loader:\n",
    "                losses = self.compute_losses(batch, use_amp=True)\n",
    "                val_losses.append(losses[\"loss_G\"].item() + losses[\"loss_D\"].item())\n",
    "\n",
    "        return np.mean(val_losses)\n",
    "\n",
    "    def train(self, num_epochs):\n",
    "        # Create progress bars\n",
    "\n",
    "        for epoch in range(num_epochs):\n",
    "            # Training phase\n",
    "            self.G_AB.train()\n",
    "            self.G_BA.train()\n",
    "            self.D_A.train()\n",
    "            self.D_B.train()\n",
    "\n",
    "            train_losses = []\n",
    "            batch_bar = tqdm(self.train_loader, desc=f\"Epoch {epoch+1}\", leave=False)\n",
    "\n",
    "            for batch in batch_bar:\n",
    "                # Compute losses with AMP\n",
    "                losses = self.compute_losses(batch, use_amp=True)\n",
    "\n",
    "                # Update generators with AMP\n",
    "                self.g_optimizer.zero_grad()\n",
    "                self.g_scaler.scale(losses[\"loss_G\"]).backward()\n",
    "                self.g_scaler.step(self.g_optimizer)\n",
    "                self.g_scaler.update()\n",
    "\n",
    "                # Update discriminators with AMP\n",
    "                self.d_optimizer.zero_grad()\n",
    "                self.d_scaler.scale(losses[\"loss_D\"]).backward()\n",
    "                self.d_scaler.step(self.d_optimizer)\n",
    "                self.d_scaler.update()\n",
    "\n",
    "                # Update progress bar\n",
    "                batch_bar.set_postfix(\n",
    "                    {\n",
    "                        \"G_loss\": f\"{losses['loss_G'].item():.4f}\",\n",
    "                        \"D_loss\": f\"{losses['loss_D'].item():.4f}\",\n",
    "                    }\n",
    "                )\n",
    "\n",
    "                train_losses.append(losses[\"loss_G\"].item() + losses[\"loss_D\"].item())\n",
    "\n",
    "            # Validation phase\n",
    "            val_loss = self.validate()\n",
    "\n",
    "            # Update training history\n",
    "            avg_train_loss = np.mean(train_losses)\n",
    "            self.history[\"train_losses\"].append(avg_train_loss)\n",
    "            self.history[\"val_losses\"].append(val_loss)\n",
    "\n",
    "            # Update progress bar\n",
    "            print(\n",
    "                f\"Epoch[{epoch+1}] Train Loss: {avg_train_loss:.4f}   Validation Loss: {val_loss:.4f}\"\n",
    "            )\n",
    "\n",
    "            # Save best model\n",
    "            if val_loss < self.history[\"best_val_loss\"]:\n",
    "                self.history[\"best_val_loss\"] = val_loss\n",
    "                self.save_models(best=True)\n",
    "\n",
    "            # Save sample images\n",
    "            if (epoch + 1) % 5 == 0:\n",
    "                self.save_samples(*losses[\"samples\"], epoch)\n",
    "\n",
    "            # Save training history\n",
    "            self.save_history()\n",
    "\n",
    "    def save_samples(self, real_A, fake_B, rec_A, epoch):\n",
    "        save_image(\n",
    "            torch.cat([real_A, fake_B, rec_A], 0),\n",
    "            f\"samples_{self.class_name}_epoch_{epoch}.png\",\n",
    "            normalize=True,\n",
    "        )\n",
    "\n",
    "    def save_history(self):\n",
    "        with open(os.path.join(self.log_dir, \"training_history.json\"), \"w\") as f:\n",
    "            json.dump(self.history, f)\n",
    "\n",
    "    def save_models(self, best=False):\n",
    "        prefix = \"best_\" if best else \"\"\n",
    "        torch.save(\n",
    "            self.G_AB.state_dict(), os.path.join(self.log_dir, f\"{prefix}G_AB.pth\")\n",
    "        )\n",
    "        torch.save(\n",
    "            self.G_BA.state_dict(), os.path.join(self.log_dir, f\"{prefix}G_BA.pth\")\n",
    "        )\n",
    "        torch.save(\n",
    "            self.D_A.state_dict(), os.path.join(self.log_dir, f\"{prefix}D_A.pth\")\n",
    "        )\n",
    "        torch.save(\n",
    "            self.D_B.state_dict(), os.path.join(self.log_dir, f\"{prefix}D_B.pth\")\n",
    "        )\n",
    "\n",
    "    def test(self):\n",
    "        self.G_AB.eval()\n",
    "        self.G_BA.eval()\n",
    "        self.D_A.eval()\n",
    "        self.D_B.eval()\n",
    "\n",
    "        test_losses = []\n",
    "        with torch.no_grad(), autocast():\n",
    "            for batch in self.test_loader:\n",
    "                losses = self.compute_losses(batch, use_amp=True)\n",
    "                test_losses.append(losses[\"loss_G\"].item() + losses[\"loss_D\"].item())\n",
    "\n",
    "        return np.mean(test_losses)\n",
    "\n",
    "    def load_models(self):\n",
    "        self.G_AB.load_state_dict(torch.load(f\"G_AB_{self.class_name}.pth\"))\n",
    "        self.G_BA.load_state_dict(torch.load(f\"G_BA_{self.class_name}.pth\"))\n",
    "        self.D_A.load_state_dict(torch.load(f\"D_A_{self.class_name}.pth\"))\n",
    "        self.D_B.load_state_dict(torch.load(f\"D_B_{self.class_name}.pth\"))\n",
    "\n",
    "\n",
    "# Main training loop for all classes\n",
    "def train_all_classes(base_dir, classes, batch_size=64, num_epochs=100):\n",
    "    for class_name in classes:\n",
    "        print(f\"\\nTraining class: {class_name}\")\n",
    "\n",
    "        # Setup data paths\n",
    "        bad_sketch_dir = os.path.join(base_dir, \"bad_sketches\", class_name)\n",
    "        good_sketch_dir = os.path.join(base_dir, \"good_sketches\", class_name)\n",
    "\n",
    "        # Create dataset and dataloader\n",
    "        dataset = SketchDataset(bad_sketch_dir, good_sketch_dir)\n",
    "        print(f\"Number of samples: {len(dataset)}\")\n",
    "        test_split = 0.2\n",
    "        val_split = 0.1\n",
    "\n",
    "        train_set, test_set = random_split(\n",
    "            dataset,\n",
    "            [\n",
    "                round(len(dataset) * (1 - test_split)),\n",
    "                round(len(dataset) * test_split),\n",
    "            ],\n",
    "        )\n",
    "        train_set, val_set = random_split(\n",
    "            train_set,\n",
    "            [\n",
    "                round(len(train_set) * (1 - val_split)),\n",
    "                round(len(train_set) * val_split),\n",
    "            ],\n",
    "        )\n",
    "        print(f\"Train set: {len(train_set)}\")\n",
    "        print(f\"Validation set: {len(val_set)}\")\n",
    "        print(f\"Test set: {len(test_set)}\")\n",
    "\n",
    "        # Initialize and train model\n",
    "        enhancer = SketchEnhancer(class_name, train_set, val_set, test_set, batch_size)\n",
    "        enhancer.train(num_epochs)\n",
    "        enhancer.save_models()\n",
    "\n",
    "        # Test model\n",
    "        test_loss = enhancer.test()\n",
    "        print(f\"Test loss: {test_loss:.4f}\")"
   ]
  },
  {
   "cell_type": "code",
   "execution_count": null,
   "metadata": {},
   "outputs": [
    {
     "name": "stdout",
     "output_type": "stream",
     "text": [
      "\n",
      "Training class: airplane\n",
      "Number of samples: 3001\n",
      "Train set: 2161\n",
      "Validation set: 240\n",
      "Test set: 600\n"
     ]
    },
    {
     "name": "stderr",
     "output_type": "stream",
     "text": [
      "                                                                                        \r"
     ]
    },
    {
     "name": "stdout",
     "output_type": "stream",
     "text": [
      "Epoch[1] Train Loss: 4.8358   Validation Loss: 1.5551\n"
     ]
    },
    {
     "name": "stderr",
     "output_type": "stream",
     "text": [
      "                                                                                        \r"
     ]
    },
    {
     "name": "stdout",
     "output_type": "stream",
     "text": [
      "Epoch[2] Train Loss: 1.8084   Validation Loss: 1.8282\n"
     ]
    },
    {
     "name": "stderr",
     "output_type": "stream",
     "text": [
      "                                                                                        \r"
     ]
    },
    {
     "name": "stdout",
     "output_type": "stream",
     "text": [
      "Epoch[3] Train Loss: 1.7786   Validation Loss: 2.6143\n"
     ]
    },
    {
     "name": "stderr",
     "output_type": "stream",
     "text": [
      "                                                                                        \r"
     ]
    },
    {
     "name": "stdout",
     "output_type": "stream",
     "text": [
      "Epoch[4] Train Loss: 1.8100   Validation Loss: 1.7792\n"
     ]
    },
    {
     "name": "stderr",
     "output_type": "stream",
     "text": [
      "                                                                                        \r"
     ]
    },
    {
     "name": "stdout",
     "output_type": "stream",
     "text": [
      "Epoch[5] Train Loss: 1.7594   Validation Loss: 1.9280\n"
     ]
    },
    {
     "name": "stderr",
     "output_type": "stream",
     "text": [
      "                                                                                        \r"
     ]
    },
    {
     "name": "stdout",
     "output_type": "stream",
     "text": [
      "Epoch[6] Train Loss: 1.8107   Validation Loss: 2.2160\n"
     ]
    },
    {
     "name": "stderr",
     "output_type": "stream",
     "text": [
      "                                                                                        \r"
     ]
    },
    {
     "name": "stdout",
     "output_type": "stream",
     "text": [
      "Epoch[7] Train Loss: 1.8760   Validation Loss: 1.9720\n"
     ]
    },
    {
     "name": "stderr",
     "output_type": "stream",
     "text": [
      "                                                                                        \r"
     ]
    },
    {
     "name": "stdout",
     "output_type": "stream",
     "text": [
      "Epoch[8] Train Loss: 1.8580   Validation Loss: 1.9805\n"
     ]
    },
    {
     "name": "stderr",
     "output_type": "stream",
     "text": [
      "                                                                                        \r"
     ]
    },
    {
     "name": "stdout",
     "output_type": "stream",
     "text": [
      "Epoch[9] Train Loss: 1.8270   Validation Loss: 2.3896\n"
     ]
    },
    {
     "name": "stderr",
     "output_type": "stream",
     "text": [
      "                                                                                         \r"
     ]
    },
    {
     "name": "stdout",
     "output_type": "stream",
     "text": [
      "Epoch[10] Train Loss: 1.8267   Validation Loss: 2.2717\n"
     ]
    },
    {
     "name": "stderr",
     "output_type": "stream",
     "text": [
      "                                                                                         \r"
     ]
    },
    {
     "name": "stdout",
     "output_type": "stream",
     "text": [
      "Epoch[11] Train Loss: 1.8631   Validation Loss: 2.1189\n"
     ]
    },
    {
     "name": "stderr",
     "output_type": "stream",
     "text": [
      "                                                                                         \r"
     ]
    },
    {
     "name": "stdout",
     "output_type": "stream",
     "text": [
      "Epoch[12] Train Loss: 1.9225   Validation Loss: 1.3342\n"
     ]
    },
    {
     "name": "stderr",
     "output_type": "stream",
     "text": [
      "                                                                                         \r"
     ]
    },
    {
     "name": "stdout",
     "output_type": "stream",
     "text": [
      "Epoch[13] Train Loss: 1.8953   Validation Loss: 2.2555\n"
     ]
    },
    {
     "name": "stderr",
     "output_type": "stream",
     "text": [
      "                                                                                         \r"
     ]
    },
    {
     "name": "stdout",
     "output_type": "stream",
     "text": [
      "Epoch[14] Train Loss: 1.9235   Validation Loss: 2.7992\n"
     ]
    },
    {
     "name": "stderr",
     "output_type": "stream",
     "text": [
      "                                                                                         \r"
     ]
    },
    {
     "name": "stdout",
     "output_type": "stream",
     "text": [
      "Epoch[15] Train Loss: 1.9913   Validation Loss: 1.8029\n"
     ]
    },
    {
     "name": "stderr",
     "output_type": "stream",
     "text": [
      "                                                                                         \r"
     ]
    },
    {
     "name": "stdout",
     "output_type": "stream",
     "text": [
      "Epoch[16] Train Loss: 1.8926   Validation Loss: 1.6126\n"
     ]
    },
    {
     "name": "stderr",
     "output_type": "stream",
     "text": [
      "                                                                                         \r"
     ]
    },
    {
     "name": "stdout",
     "output_type": "stream",
     "text": [
      "Epoch[17] Train Loss: 1.9543   Validation Loss: 2.0823\n"
     ]
    },
    {
     "name": "stderr",
     "output_type": "stream",
     "text": [
      "                                                                                         \r"
     ]
    },
    {
     "name": "stdout",
     "output_type": "stream",
     "text": [
      "Epoch[18] Train Loss: 2.1493   Validation Loss: 1.6429\n"
     ]
    },
    {
     "name": "stderr",
     "output_type": "stream",
     "text": [
      "                                                                                         \r"
     ]
    },
    {
     "name": "stdout",
     "output_type": "stream",
     "text": [
      "Epoch[19] Train Loss: 1.7145   Validation Loss: 1.6621\n"
     ]
    },
    {
     "name": "stderr",
     "output_type": "stream",
     "text": [
      "                                                                                          \r"
     ]
    },
    {
     "name": "stdout",
     "output_type": "stream",
     "text": [
      "Epoch[20] Train Loss: 3.4054   Validation Loss: 4.4848\n"
     ]
    },
    {
     "name": "stderr",
     "output_type": "stream",
     "text": [
      "                                                                                         \r"
     ]
    },
    {
     "name": "stdout",
     "output_type": "stream",
     "text": [
      "Epoch[21] Train Loss: 3.4911   Validation Loss: 4.2627\n"
     ]
    },
    {
     "name": "stderr",
     "output_type": "stream",
     "text": [
      "                                                                                         \r"
     ]
    },
    {
     "name": "stdout",
     "output_type": "stream",
     "text": [
      "Epoch[22] Train Loss: 3.0622   Validation Loss: 2.0725\n"
     ]
    },
    {
     "name": "stderr",
     "output_type": "stream",
     "text": [
      "                                                                                         \r"
     ]
    },
    {
     "name": "stdout",
     "output_type": "stream",
     "text": [
      "Epoch[23] Train Loss: 1.8419   Validation Loss: 2.3591\n"
     ]
    },
    {
     "name": "stderr",
     "output_type": "stream",
     "text": [
      "                                                                                         \r"
     ]
    },
    {
     "name": "stdout",
     "output_type": "stream",
     "text": [
      "Epoch[24] Train Loss: 1.9722   Validation Loss: 2.6252\n"
     ]
    },
    {
     "name": "stderr",
     "output_type": "stream",
     "text": [
      "                                                                                         \r"
     ]
    },
    {
     "name": "stdout",
     "output_type": "stream",
     "text": [
      "Epoch[25] Train Loss: 1.8294   Validation Loss: 1.8857\n"
     ]
    },
    {
     "name": "stderr",
     "output_type": "stream",
     "text": [
      "                                                                                         \r"
     ]
    },
    {
     "name": "stdout",
     "output_type": "stream",
     "text": [
      "Epoch[26] Train Loss: 1.9088   Validation Loss: 1.6854\n"
     ]
    },
    {
     "name": "stderr",
     "output_type": "stream",
     "text": [
      "                                                                                         \r"
     ]
    },
    {
     "name": "stdout",
     "output_type": "stream",
     "text": [
      "Epoch[27] Train Loss: 1.8373   Validation Loss: 2.1851\n"
     ]
    },
    {
     "name": "stderr",
     "output_type": "stream",
     "text": [
      "                                                                                         \r"
     ]
    },
    {
     "name": "stdout",
     "output_type": "stream",
     "text": [
      "Epoch[28] Train Loss: 1.9297   Validation Loss: 2.0278\n"
     ]
    },
    {
     "name": "stderr",
     "output_type": "stream",
     "text": [
      "                                                                                         \r"
     ]
    },
    {
     "name": "stdout",
     "output_type": "stream",
     "text": [
      "Epoch[29] Train Loss: 1.9579   Validation Loss: 1.8961\n"
     ]
    },
    {
     "name": "stderr",
     "output_type": "stream",
     "text": [
      "                                                                                         \r"
     ]
    },
    {
     "name": "stdout",
     "output_type": "stream",
     "text": [
      "Epoch[30] Train Loss: 1.9707   Validation Loss: 3.7540\n"
     ]
    },
    {
     "name": "stderr",
     "output_type": "stream",
     "text": [
      "                                                                                         \r"
     ]
    },
    {
     "name": "stdout",
     "output_type": "stream",
     "text": [
      "Epoch[31] Train Loss: 1.9881   Validation Loss: 2.9430\n"
     ]
    },
    {
     "name": "stderr",
     "output_type": "stream",
     "text": [
      "                                                                                         \r"
     ]
    },
    {
     "name": "stdout",
     "output_type": "stream",
     "text": [
      "Epoch[32] Train Loss: 1.8317   Validation Loss: 1.7930\n"
     ]
    },
    {
     "name": "stderr",
     "output_type": "stream",
     "text": [
      "                                                                                         \r"
     ]
    },
    {
     "name": "stdout",
     "output_type": "stream",
     "text": [
      "Epoch[33] Train Loss: 1.8114   Validation Loss: 1.7211\n"
     ]
    },
    {
     "name": "stderr",
     "output_type": "stream",
     "text": [
      "                                                                                         \r"
     ]
    },
    {
     "name": "stdout",
     "output_type": "stream",
     "text": [
      "Epoch[34] Train Loss: 1.9070   Validation Loss: 2.2553\n"
     ]
    },
    {
     "name": "stderr",
     "output_type": "stream",
     "text": [
      "                                                                                         \r"
     ]
    },
    {
     "name": "stdout",
     "output_type": "stream",
     "text": [
      "Epoch[35] Train Loss: 1.9347   Validation Loss: 1.8700\n"
     ]
    },
    {
     "name": "stderr",
     "output_type": "stream",
     "text": [
      "                                                                                         \r"
     ]
    },
    {
     "name": "stdout",
     "output_type": "stream",
     "text": [
      "Epoch[36] Train Loss: 1.8829   Validation Loss: 1.3961\n"
     ]
    },
    {
     "name": "stderr",
     "output_type": "stream",
     "text": [
      "                                                                                         \r"
     ]
    },
    {
     "name": "stdout",
     "output_type": "stream",
     "text": [
      "Epoch[37] Train Loss: 2.1292   Validation Loss: 2.4623\n"
     ]
    },
    {
     "name": "stderr",
     "output_type": "stream",
     "text": [
      "                                                                                         \r"
     ]
    },
    {
     "name": "stdout",
     "output_type": "stream",
     "text": [
      "Epoch[38] Train Loss: 2.9823   Validation Loss: 2.8649\n"
     ]
    },
    {
     "name": "stderr",
     "output_type": "stream",
     "text": [
      "                                                                                         \r"
     ]
    },
    {
     "name": "stdout",
     "output_type": "stream",
     "text": [
      "Epoch[39] Train Loss: 3.0607   Validation Loss: 2.9910\n"
     ]
    },
    {
     "name": "stderr",
     "output_type": "stream",
     "text": [
      "                                                                                         \r"
     ]
    },
    {
     "name": "stdout",
     "output_type": "stream",
     "text": [
      "Epoch[40] Train Loss: 2.6563   Validation Loss: 3.5299\n"
     ]
    },
    {
     "name": "stderr",
     "output_type": "stream",
     "text": [
      "                                                                                         \r"
     ]
    },
    {
     "name": "stdout",
     "output_type": "stream",
     "text": [
      "Epoch[41] Train Loss: 2.6315   Validation Loss: 3.2935\n"
     ]
    },
    {
     "name": "stderr",
     "output_type": "stream",
     "text": [
      "                                                                                         \r"
     ]
    },
    {
     "name": "stdout",
     "output_type": "stream",
     "text": [
      "Epoch[42] Train Loss: 2.2577   Validation Loss: 2.1259\n"
     ]
    },
    {
     "name": "stderr",
     "output_type": "stream",
     "text": [
      "                                                                                         \r"
     ]
    },
    {
     "name": "stdout",
     "output_type": "stream",
     "text": [
      "Epoch[43] Train Loss: 2.0203   Validation Loss: 3.4667\n"
     ]
    },
    {
     "name": "stderr",
     "output_type": "stream",
     "text": [
      "                                                                                         \r"
     ]
    },
    {
     "name": "stdout",
     "output_type": "stream",
     "text": [
      "Epoch[44] Train Loss: 2.0989   Validation Loss: 1.6451\n"
     ]
    },
    {
     "name": "stderr",
     "output_type": "stream",
     "text": [
      "                                                                                         \r"
     ]
    },
    {
     "name": "stdout",
     "output_type": "stream",
     "text": [
      "Epoch[45] Train Loss: 2.1131   Validation Loss: 2.5956\n"
     ]
    },
    {
     "name": "stderr",
     "output_type": "stream",
     "text": [
      "                                                                                         \r"
     ]
    },
    {
     "name": "stdout",
     "output_type": "stream",
     "text": [
      "Epoch[46] Train Loss: 2.1186   Validation Loss: 1.7257\n"
     ]
    },
    {
     "name": "stderr",
     "output_type": "stream",
     "text": [
      "                                                                                         \r"
     ]
    },
    {
     "name": "stdout",
     "output_type": "stream",
     "text": [
      "Epoch[47] Train Loss: 2.0792   Validation Loss: 2.0684\n"
     ]
    },
    {
     "name": "stderr",
     "output_type": "stream",
     "text": [
      "                                                                                         \r"
     ]
    },
    {
     "name": "stdout",
     "output_type": "stream",
     "text": [
      "Epoch[48] Train Loss: 2.1595   Validation Loss: 2.5129\n"
     ]
    },
    {
     "name": "stderr",
     "output_type": "stream",
     "text": [
      "                                                                                         \r"
     ]
    },
    {
     "name": "stdout",
     "output_type": "stream",
     "text": [
      "Epoch[49] Train Loss: 2.1941   Validation Loss: 2.8839\n"
     ]
    },
    {
     "name": "stderr",
     "output_type": "stream",
     "text": [
      "                                                                                         \r"
     ]
    },
    {
     "name": "stdout",
     "output_type": "stream",
     "text": [
      "Epoch[50] Train Loss: 2.1370   Validation Loss: 2.1500\n",
      "Test loss: 2.1170\n",
      "\n",
      "Training class: alarm_clock\n",
      "Number of samples: 3001\n",
      "Train set: 2161\n",
      "Validation set: 240\n",
      "Test set: 600\n"
     ]
    },
    {
     "name": "stderr",
     "output_type": "stream",
     "text": [
      "                                                                                        \r"
     ]
    },
    {
     "name": "stdout",
     "output_type": "stream",
     "text": [
      "Epoch[1] Train Loss: 4.3702   Validation Loss: 1.6322\n"
     ]
    },
    {
     "name": "stderr",
     "output_type": "stream",
     "text": [
      "                                                                                        \r"
     ]
    },
    {
     "name": "stdout",
     "output_type": "stream",
     "text": [
      "Epoch[2] Train Loss: 2.0119   Validation Loss: 1.6903\n"
     ]
    },
    {
     "name": "stderr",
     "output_type": "stream",
     "text": [
      "                                                                                        \r"
     ]
    },
    {
     "name": "stdout",
     "output_type": "stream",
     "text": [
      "Epoch[3] Train Loss: 1.9737   Validation Loss: 3.3347\n"
     ]
    },
    {
     "name": "stderr",
     "output_type": "stream",
     "text": [
      "                                                                                        \r"
     ]
    },
    {
     "name": "stdout",
     "output_type": "stream",
     "text": [
      "Epoch[4] Train Loss: 2.2546   Validation Loss: 1.5641\n"
     ]
    },
    {
     "name": "stderr",
     "output_type": "stream",
     "text": [
      "                                                                                        \r"
     ]
    },
    {
     "name": "stdout",
     "output_type": "stream",
     "text": [
      "Epoch[5] Train Loss: 1.8718   Validation Loss: 3.2188\n"
     ]
    },
    {
     "name": "stderr",
     "output_type": "stream",
     "text": [
      "                                                                                        \r"
     ]
    },
    {
     "name": "stdout",
     "output_type": "stream",
     "text": [
      "Epoch[6] Train Loss: 1.9387   Validation Loss: 2.1562\n"
     ]
    },
    {
     "name": "stderr",
     "output_type": "stream",
     "text": [
      "                                                                                        \r"
     ]
    },
    {
     "name": "stdout",
     "output_type": "stream",
     "text": [
      "Epoch[7] Train Loss: 1.9911   Validation Loss: 4.2210\n"
     ]
    },
    {
     "name": "stderr",
     "output_type": "stream",
     "text": [
      "                                                                                        \r"
     ]
    },
    {
     "name": "stdout",
     "output_type": "stream",
     "text": [
      "Epoch[8] Train Loss: 1.9275   Validation Loss: 2.1977\n"
     ]
    },
    {
     "name": "stderr",
     "output_type": "stream",
     "text": [
      "                                                                                        \r"
     ]
    },
    {
     "name": "stdout",
     "output_type": "stream",
     "text": [
      "Epoch[9] Train Loss: 1.9422   Validation Loss: 1.5920\n"
     ]
    },
    {
     "name": "stderr",
     "output_type": "stream",
     "text": [
      "                                                                                         \r"
     ]
    },
    {
     "name": "stdout",
     "output_type": "stream",
     "text": [
      "Epoch[10] Train Loss: 2.0216   Validation Loss: 3.2037\n"
     ]
    },
    {
     "name": "stderr",
     "output_type": "stream",
     "text": [
      "                                                                                         \r"
     ]
    },
    {
     "name": "stdout",
     "output_type": "stream",
     "text": [
      "Epoch[11] Train Loss: 1.9802   Validation Loss: 2.5640\n"
     ]
    },
    {
     "name": "stderr",
     "output_type": "stream",
     "text": [
      "                                                                                         \r"
     ]
    },
    {
     "name": "stdout",
     "output_type": "stream",
     "text": [
      "Epoch[12] Train Loss: 2.0895   Validation Loss: 2.1453\n"
     ]
    },
    {
     "name": "stderr",
     "output_type": "stream",
     "text": [
      "                                                                                         \r"
     ]
    },
    {
     "name": "stdout",
     "output_type": "stream",
     "text": [
      "Epoch[13] Train Loss: 1.9806   Validation Loss: 2.6982\n"
     ]
    },
    {
     "name": "stderr",
     "output_type": "stream",
     "text": [
      "                                                                                         \r"
     ]
    },
    {
     "name": "stdout",
     "output_type": "stream",
     "text": [
      "Epoch[14] Train Loss: 1.9964   Validation Loss: 2.6850\n"
     ]
    },
    {
     "name": "stderr",
     "output_type": "stream",
     "text": [
      "                                                                                         \r"
     ]
    },
    {
     "name": "stdout",
     "output_type": "stream",
     "text": [
      "Epoch[15] Train Loss: 2.0114   Validation Loss: 2.5509\n"
     ]
    },
    {
     "name": "stderr",
     "output_type": "stream",
     "text": [
      "                                                                                         \r"
     ]
    },
    {
     "name": "stdout",
     "output_type": "stream",
     "text": [
      "Epoch[16] Train Loss: 2.0769   Validation Loss: 2.5410\n"
     ]
    },
    {
     "name": "stderr",
     "output_type": "stream",
     "text": [
      "                                                                                         \r"
     ]
    },
    {
     "name": "stdout",
     "output_type": "stream",
     "text": [
      "Epoch[17] Train Loss: 2.1039   Validation Loss: 2.9092\n"
     ]
    },
    {
     "name": "stderr",
     "output_type": "stream",
     "text": [
      "                                                                                         \r"
     ]
    },
    {
     "name": "stdout",
     "output_type": "stream",
     "text": [
      "Epoch[18] Train Loss: 2.0890   Validation Loss: 2.0301\n"
     ]
    },
    {
     "name": "stderr",
     "output_type": "stream",
     "text": [
      "                                                                                         \r"
     ]
    },
    {
     "name": "stdout",
     "output_type": "stream",
     "text": [
      "Epoch[19] Train Loss: 2.0982   Validation Loss: 2.1375\n"
     ]
    },
    {
     "name": "stderr",
     "output_type": "stream",
     "text": [
      "                                                                                         \r"
     ]
    },
    {
     "name": "stdout",
     "output_type": "stream",
     "text": [
      "Epoch[20] Train Loss: 2.1498   Validation Loss: 2.0118\n"
     ]
    },
    {
     "name": "stderr",
     "output_type": "stream",
     "text": [
      "                                                                                         \r"
     ]
    },
    {
     "name": "stdout",
     "output_type": "stream",
     "text": [
      "Epoch[21] Train Loss: 2.1365   Validation Loss: 2.6870\n"
     ]
    },
    {
     "name": "stderr",
     "output_type": "stream",
     "text": [
      "                                                                                         \r"
     ]
    },
    {
     "name": "stdout",
     "output_type": "stream",
     "text": [
      "Epoch[22] Train Loss: 2.1178   Validation Loss: 1.8217\n"
     ]
    },
    {
     "name": "stderr",
     "output_type": "stream",
     "text": [
      "                                                                                         \r"
     ]
    },
    {
     "name": "stdout",
     "output_type": "stream",
     "text": [
      "Epoch[23] Train Loss: 2.0773   Validation Loss: 2.7722\n"
     ]
    },
    {
     "name": "stderr",
     "output_type": "stream",
     "text": [
      "                                                                                         \r"
     ]
    },
    {
     "name": "stdout",
     "output_type": "stream",
     "text": [
      "Epoch[24] Train Loss: 2.1235   Validation Loss: 1.5197\n"
     ]
    },
    {
     "name": "stderr",
     "output_type": "stream",
     "text": [
      "                                                                                         \r"
     ]
    },
    {
     "name": "stdout",
     "output_type": "stream",
     "text": [
      "Epoch[25] Train Loss: 2.0378   Validation Loss: 2.5030\n"
     ]
    },
    {
     "name": "stderr",
     "output_type": "stream",
     "text": [
      "                                                                                         \r"
     ]
    },
    {
     "name": "stdout",
     "output_type": "stream",
     "text": [
      "Epoch[26] Train Loss: 2.1497   Validation Loss: 5.6968\n"
     ]
    },
    {
     "name": "stderr",
     "output_type": "stream",
     "text": [
      "                                                                                         \r"
     ]
    },
    {
     "name": "stdout",
     "output_type": "stream",
     "text": [
      "Epoch[27] Train Loss: 4.3493   Validation Loss: 2.0719\n"
     ]
    },
    {
     "name": "stderr",
     "output_type": "stream",
     "text": [
      "                                                                                         \r"
     ]
    },
    {
     "name": "stdout",
     "output_type": "stream",
     "text": [
      "Epoch[28] Train Loss: 1.6766   Validation Loss: 1.8682\n"
     ]
    },
    {
     "name": "stderr",
     "output_type": "stream",
     "text": [
      "                                                                                         \r"
     ]
    },
    {
     "name": "stdout",
     "output_type": "stream",
     "text": [
      "Epoch[29] Train Loss: 1.8396   Validation Loss: 1.3236\n"
     ]
    },
    {
     "name": "stderr",
     "output_type": "stream",
     "text": [
      "                                                                                         \r"
     ]
    },
    {
     "name": "stdout",
     "output_type": "stream",
     "text": [
      "Epoch[30] Train Loss: 2.0103   Validation Loss: 1.8039\n"
     ]
    },
    {
     "name": "stderr",
     "output_type": "stream",
     "text": [
      "                                                                                         \r"
     ]
    },
    {
     "name": "stdout",
     "output_type": "stream",
     "text": [
      "Epoch[31] Train Loss: 2.0177   Validation Loss: 3.0856\n"
     ]
    },
    {
     "name": "stderr",
     "output_type": "stream",
     "text": [
      "                                                                                         \r"
     ]
    },
    {
     "name": "stdout",
     "output_type": "stream",
     "text": [
      "Epoch[32] Train Loss: 2.0821   Validation Loss: 2.2225\n"
     ]
    },
    {
     "name": "stderr",
     "output_type": "stream",
     "text": [
      "                                                                                         \r"
     ]
    },
    {
     "name": "stdout",
     "output_type": "stream",
     "text": [
      "Epoch[33] Train Loss: 2.1015   Validation Loss: 1.8218\n"
     ]
    },
    {
     "name": "stderr",
     "output_type": "stream",
     "text": [
      "                                                                                         \r"
     ]
    },
    {
     "name": "stdout",
     "output_type": "stream",
     "text": [
      "Epoch[34] Train Loss: 2.0488   Validation Loss: 3.3576\n"
     ]
    },
    {
     "name": "stderr",
     "output_type": "stream",
     "text": [
      "                                                                                         \r"
     ]
    },
    {
     "name": "stdout",
     "output_type": "stream",
     "text": [
      "Epoch[35] Train Loss: 2.1080   Validation Loss: 2.0450\n"
     ]
    },
    {
     "name": "stderr",
     "output_type": "stream",
     "text": [
      "                                                                                         \r"
     ]
    },
    {
     "name": "stdout",
     "output_type": "stream",
     "text": [
      "Epoch[36] Train Loss: 2.2374   Validation Loss: 2.3336\n"
     ]
    },
    {
     "name": "stderr",
     "output_type": "stream",
     "text": [
      "                                                                                         \r"
     ]
    },
    {
     "name": "stdout",
     "output_type": "stream",
     "text": [
      "Epoch[37] Train Loss: 2.1636   Validation Loss: 2.0651\n"
     ]
    },
    {
     "name": "stderr",
     "output_type": "stream",
     "text": [
      "                                                                                         \r"
     ]
    },
    {
     "name": "stdout",
     "output_type": "stream",
     "text": [
      "Epoch[38] Train Loss: 2.1481   Validation Loss: 2.2964\n"
     ]
    },
    {
     "name": "stderr",
     "output_type": "stream",
     "text": [
      "                                                                                         \r"
     ]
    },
    {
     "name": "stdout",
     "output_type": "stream",
     "text": [
      "Epoch[39] Train Loss: 2.1491   Validation Loss: 2.1076\n"
     ]
    },
    {
     "name": "stderr",
     "output_type": "stream",
     "text": [
      "                                                                                         \r"
     ]
    },
    {
     "name": "stdout",
     "output_type": "stream",
     "text": [
      "Epoch[40] Train Loss: 2.1512   Validation Loss: 2.0903\n"
     ]
    },
    {
     "name": "stderr",
     "output_type": "stream",
     "text": [
      "                                                                                         \r"
     ]
    },
    {
     "name": "stdout",
     "output_type": "stream",
     "text": [
      "Epoch[41] Train Loss: 1.9935   Validation Loss: 3.6871\n"
     ]
    },
    {
     "name": "stderr",
     "output_type": "stream",
     "text": [
      "                                                                                         \r"
     ]
    },
    {
     "name": "stdout",
     "output_type": "stream",
     "text": [
      "Epoch[42] Train Loss: 2.1196   Validation Loss: 2.5514\n"
     ]
    },
    {
     "name": "stderr",
     "output_type": "stream",
     "text": [
      "                                                                                         \r"
     ]
    },
    {
     "name": "stdout",
     "output_type": "stream",
     "text": [
      "Epoch[43] Train Loss: 2.1533   Validation Loss: 2.1317\n"
     ]
    },
    {
     "name": "stderr",
     "output_type": "stream",
     "text": [
      "                                                                                         \r"
     ]
    },
    {
     "name": "stdout",
     "output_type": "stream",
     "text": [
      "Epoch[44] Train Loss: 2.0636   Validation Loss: 2.2983\n"
     ]
    },
    {
     "name": "stderr",
     "output_type": "stream",
     "text": [
      "                                                                                         \r"
     ]
    },
    {
     "name": "stdout",
     "output_type": "stream",
     "text": [
      "Epoch[45] Train Loss: 2.1323   Validation Loss: 3.2056\n"
     ]
    },
    {
     "name": "stderr",
     "output_type": "stream",
     "text": [
      "                                                                                         \r"
     ]
    },
    {
     "name": "stdout",
     "output_type": "stream",
     "text": [
      "Epoch[46] Train Loss: 2.2486   Validation Loss: 2.1186\n"
     ]
    },
    {
     "name": "stderr",
     "output_type": "stream",
     "text": [
      "                                                                                         \r"
     ]
    },
    {
     "name": "stdout",
     "output_type": "stream",
     "text": [
      "Epoch[47] Train Loss: 2.1004   Validation Loss: 2.5607\n"
     ]
    },
    {
     "name": "stderr",
     "output_type": "stream",
     "text": [
      "                                                                                         \r"
     ]
    },
    {
     "name": "stdout",
     "output_type": "stream",
     "text": [
      "Epoch[48] Train Loss: 2.1671   Validation Loss: 2.3042\n"
     ]
    },
    {
     "name": "stderr",
     "output_type": "stream",
     "text": [
      "                                                                                         \r"
     ]
    },
    {
     "name": "stdout",
     "output_type": "stream",
     "text": [
      "Epoch[49] Train Loss: 2.2093   Validation Loss: 2.0329\n"
     ]
    },
    {
     "name": "stderr",
     "output_type": "stream",
     "text": [
      "                                                                                         \r"
     ]
    },
    {
     "name": "stdout",
     "output_type": "stream",
     "text": [
      "Epoch[50] Train Loss: 2.0415   Validation Loss: 3.7839\n",
      "Test loss: 3.7895\n",
      "\n",
      "Training class: axe\n",
      "Number of samples: 3001\n",
      "Train set: 2161\n",
      "Validation set: 240\n",
      "Test set: 600\n"
     ]
    },
    {
     "name": "stderr",
     "output_type": "stream",
     "text": [
      "                                                                                        \r"
     ]
    },
    {
     "name": "stdout",
     "output_type": "stream",
     "text": [
      "Epoch[1] Train Loss: 4.2227   Validation Loss: 1.9144\n"
     ]
    },
    {
     "name": "stderr",
     "output_type": "stream",
     "text": [
      "                                                                                        \r"
     ]
    },
    {
     "name": "stdout",
     "output_type": "stream",
     "text": [
      "Epoch[2] Train Loss: 1.8389   Validation Loss: 2.2346\n"
     ]
    },
    {
     "name": "stderr",
     "output_type": "stream",
     "text": [
      "                                                                                        \r"
     ]
    },
    {
     "name": "stdout",
     "output_type": "stream",
     "text": [
      "Epoch[3] Train Loss: 1.7929   Validation Loss: 1.7472\n"
     ]
    },
    {
     "name": "stderr",
     "output_type": "stream",
     "text": [
      "                                                                                        \r"
     ]
    },
    {
     "name": "stdout",
     "output_type": "stream",
     "text": [
      "Epoch[4] Train Loss: 1.7415   Validation Loss: 1.9081\n"
     ]
    },
    {
     "name": "stderr",
     "output_type": "stream",
     "text": [
      "                                                                                        \r"
     ]
    },
    {
     "name": "stdout",
     "output_type": "stream",
     "text": [
      "Epoch[5] Train Loss: 1.7681   Validation Loss: 1.6068\n"
     ]
    },
    {
     "name": "stderr",
     "output_type": "stream",
     "text": [
      "                                                                                        \r"
     ]
    },
    {
     "name": "stdout",
     "output_type": "stream",
     "text": [
      "Epoch[6] Train Loss: 1.7574   Validation Loss: 1.5711\n"
     ]
    },
    {
     "name": "stderr",
     "output_type": "stream",
     "text": [
      "                                                                                        \r"
     ]
    },
    {
     "name": "stdout",
     "output_type": "stream",
     "text": [
      "Epoch[7] Train Loss: 1.7680   Validation Loss: 2.2158\n"
     ]
    },
    {
     "name": "stderr",
     "output_type": "stream",
     "text": [
      "                                                                                        \r"
     ]
    },
    {
     "name": "stdout",
     "output_type": "stream",
     "text": [
      "Epoch[8] Train Loss: 1.8122   Validation Loss: 2.9800\n"
     ]
    },
    {
     "name": "stderr",
     "output_type": "stream",
     "text": [
      "                                                                                        \r"
     ]
    },
    {
     "name": "stdout",
     "output_type": "stream",
     "text": [
      "Epoch[9] Train Loss: 2.4278   Validation Loss: 2.8246\n"
     ]
    },
    {
     "name": "stderr",
     "output_type": "stream",
     "text": [
      "                                                                                         \r"
     ]
    },
    {
     "name": "stdout",
     "output_type": "stream",
     "text": [
      "Epoch[10] Train Loss: 2.5392   Validation Loss: 2.5076\n"
     ]
    },
    {
     "name": "stderr",
     "output_type": "stream",
     "text": [
      "                                                                                         \r"
     ]
    },
    {
     "name": "stdout",
     "output_type": "stream",
     "text": [
      "Epoch[11] Train Loss: 2.6123   Validation Loss: 4.7860\n"
     ]
    },
    {
     "name": "stderr",
     "output_type": "stream",
     "text": [
      "                                                                                         \r"
     ]
    },
    {
     "name": "stdout",
     "output_type": "stream",
     "text": [
      "Epoch[12] Train Loss: 2.5985   Validation Loss: 2.4125\n"
     ]
    },
    {
     "name": "stderr",
     "output_type": "stream",
     "text": [
      "                                                                                         \r"
     ]
    },
    {
     "name": "stdout",
     "output_type": "stream",
     "text": [
      "Epoch[13] Train Loss: 2.5956   Validation Loss: 4.0747\n"
     ]
    },
    {
     "name": "stderr",
     "output_type": "stream",
     "text": [
      "                                                                                         \r"
     ]
    },
    {
     "name": "stdout",
     "output_type": "stream",
     "text": [
      "Epoch[14] Train Loss: 3.1924   Validation Loss: 3.2007\n"
     ]
    },
    {
     "name": "stderr",
     "output_type": "stream",
     "text": [
      "                                                                                         \r"
     ]
    },
    {
     "name": "stdout",
     "output_type": "stream",
     "text": [
      "Epoch[15] Train Loss: 3.2020   Validation Loss: 3.2410\n"
     ]
    },
    {
     "name": "stderr",
     "output_type": "stream",
     "text": [
      "                                                                                         \r"
     ]
    },
    {
     "name": "stdout",
     "output_type": "stream",
     "text": [
      "Epoch[16] Train Loss: 3.1826   Validation Loss: 3.1993\n"
     ]
    },
    {
     "name": "stderr",
     "output_type": "stream",
     "text": [
      "                                                                                         \r"
     ]
    },
    {
     "name": "stdout",
     "output_type": "stream",
     "text": [
      "Epoch[17] Train Loss: 3.1953   Validation Loss: 3.1813\n"
     ]
    },
    {
     "name": "stderr",
     "output_type": "stream",
     "text": [
      "                                                                                         \r"
     ]
    },
    {
     "name": "stdout",
     "output_type": "stream",
     "text": [
      "Epoch[18] Train Loss: 3.0888   Validation Loss: 2.8828\n"
     ]
    },
    {
     "name": "stderr",
     "output_type": "stream",
     "text": [
      "                                                                                         \r"
     ]
    },
    {
     "name": "stdout",
     "output_type": "stream",
     "text": [
      "Epoch[19] Train Loss: 2.7417   Validation Loss: 3.2224\n"
     ]
    },
    {
     "name": "stderr",
     "output_type": "stream",
     "text": [
      "                                                                                         \r"
     ]
    },
    {
     "name": "stdout",
     "output_type": "stream",
     "text": [
      "Epoch[20] Train Loss: 2.7748   Validation Loss: 2.9270\n"
     ]
    },
    {
     "name": "stderr",
     "output_type": "stream",
     "text": [
      "                                                                                         \r"
     ]
    },
    {
     "name": "stdout",
     "output_type": "stream",
     "text": [
      "Epoch[21] Train Loss: 2.7663   Validation Loss: 2.4340\n"
     ]
    },
    {
     "name": "stderr",
     "output_type": "stream",
     "text": [
      "                                                                                         \r"
     ]
    },
    {
     "name": "stdout",
     "output_type": "stream",
     "text": [
      "Epoch[22] Train Loss: 2.5544   Validation Loss: 3.0841\n"
     ]
    },
    {
     "name": "stderr",
     "output_type": "stream",
     "text": [
      "                                                                                         \r"
     ]
    },
    {
     "name": "stdout",
     "output_type": "stream",
     "text": [
      "Epoch[23] Train Loss: 2.7073   Validation Loss: 2.8995\n"
     ]
    },
    {
     "name": "stderr",
     "output_type": "stream",
     "text": [
      "                                                                                         \r"
     ]
    },
    {
     "name": "stdout",
     "output_type": "stream",
     "text": [
      "Epoch[24] Train Loss: 2.7201   Validation Loss: 2.4213\n"
     ]
    },
    {
     "name": "stderr",
     "output_type": "stream",
     "text": [
      "                                                                                         \r"
     ]
    },
    {
     "name": "stdout",
     "output_type": "stream",
     "text": [
      "Epoch[25] Train Loss: 2.6692   Validation Loss: 2.9324\n"
     ]
    },
    {
     "name": "stderr",
     "output_type": "stream",
     "text": [
      "                                                                                         \r"
     ]
    },
    {
     "name": "stdout",
     "output_type": "stream",
     "text": [
      "Epoch[26] Train Loss: 2.7401   Validation Loss: 3.2322\n"
     ]
    },
    {
     "name": "stderr",
     "output_type": "stream",
     "text": [
      "                                                                                         \r"
     ]
    },
    {
     "name": "stdout",
     "output_type": "stream",
     "text": [
      "Epoch[27] Train Loss: 2.7710   Validation Loss: 2.5110\n"
     ]
    },
    {
     "name": "stderr",
     "output_type": "stream",
     "text": [
      "                                                                                         \r"
     ]
    },
    {
     "name": "stdout",
     "output_type": "stream",
     "text": [
      "Epoch[28] Train Loss: 2.7421   Validation Loss: 2.7550\n"
     ]
    },
    {
     "name": "stderr",
     "output_type": "stream",
     "text": [
      "                                                                                         \r"
     ]
    },
    {
     "name": "stdout",
     "output_type": "stream",
     "text": [
      "Epoch[29] Train Loss: 2.7154   Validation Loss: 2.6178\n"
     ]
    },
    {
     "name": "stderr",
     "output_type": "stream",
     "text": [
      "                                                                                          \r"
     ]
    },
    {
     "name": "stdout",
     "output_type": "stream",
     "text": [
      "Epoch[30] Train Loss: 3.1557   Validation Loss: 2.6771\n"
     ]
    },
    {
     "name": "stderr",
     "output_type": "stream",
     "text": [
      "                                                                                         \r"
     ]
    },
    {
     "name": "stdout",
     "output_type": "stream",
     "text": [
      "Epoch[31] Train Loss: 2.5795   Validation Loss: 3.4215\n"
     ]
    },
    {
     "name": "stderr",
     "output_type": "stream",
     "text": [
      "                                                                                         \r"
     ]
    },
    {
     "name": "stdout",
     "output_type": "stream",
     "text": [
      "Epoch[32] Train Loss: 2.6797   Validation Loss: 2.4662\n"
     ]
    },
    {
     "name": "stderr",
     "output_type": "stream",
     "text": [
      "                                                                                         \r"
     ]
    },
    {
     "name": "stdout",
     "output_type": "stream",
     "text": [
      "Epoch[33] Train Loss: 2.6915   Validation Loss: 3.0031\n"
     ]
    },
    {
     "name": "stderr",
     "output_type": "stream",
     "text": [
      "                                                                                         \r"
     ]
    },
    {
     "name": "stdout",
     "output_type": "stream",
     "text": [
      "Epoch[34] Train Loss: 2.8145   Validation Loss: 3.8611\n"
     ]
    },
    {
     "name": "stderr",
     "output_type": "stream",
     "text": [
      "                                                                                         \r"
     ]
    },
    {
     "name": "stdout",
     "output_type": "stream",
     "text": [
      "Epoch[35] Train Loss: 2.7763   Validation Loss: 4.2202\n"
     ]
    },
    {
     "name": "stderr",
     "output_type": "stream",
     "text": [
      "                                                                                         \r"
     ]
    },
    {
     "name": "stdout",
     "output_type": "stream",
     "text": [
      "Epoch[36] Train Loss: 2.7946   Validation Loss: 2.6940\n"
     ]
    },
    {
     "name": "stderr",
     "output_type": "stream",
     "text": [
      "                                                                                         \r"
     ]
    },
    {
     "name": "stdout",
     "output_type": "stream",
     "text": [
      "Epoch[37] Train Loss: 2.9335   Validation Loss: 2.9299\n"
     ]
    },
    {
     "name": "stderr",
     "output_type": "stream",
     "text": [
      "                                                                                         \r"
     ]
    },
    {
     "name": "stdout",
     "output_type": "stream",
     "text": [
      "Epoch[38] Train Loss: 2.8210   Validation Loss: 2.4539\n"
     ]
    },
    {
     "name": "stderr",
     "output_type": "stream",
     "text": [
      "                                                                                         \r"
     ]
    },
    {
     "name": "stdout",
     "output_type": "stream",
     "text": [
      "Epoch[39] Train Loss: 2.6930   Validation Loss: 2.7800\n"
     ]
    },
    {
     "name": "stderr",
     "output_type": "stream",
     "text": [
      "                                                                                         \r"
     ]
    },
    {
     "name": "stdout",
     "output_type": "stream",
     "text": [
      "Epoch[40] Train Loss: 2.7140   Validation Loss: 3.1003\n"
     ]
    },
    {
     "name": "stderr",
     "output_type": "stream",
     "text": [
      "                                                                                         \r"
     ]
    },
    {
     "name": "stdout",
     "output_type": "stream",
     "text": [
      "Epoch[41] Train Loss: 2.7441   Validation Loss: 3.2743\n"
     ]
    },
    {
     "name": "stderr",
     "output_type": "stream",
     "text": [
      "                                                                                         \r"
     ]
    },
    {
     "name": "stdout",
     "output_type": "stream",
     "text": [
      "Epoch[42] Train Loss: 2.8839   Validation Loss: 4.0681\n"
     ]
    },
    {
     "name": "stderr",
     "output_type": "stream",
     "text": [
      "                                                                                         \r"
     ]
    },
    {
     "name": "stdout",
     "output_type": "stream",
     "text": [
      "Epoch[43] Train Loss: 2.8374   Validation Loss: 4.1243\n"
     ]
    },
    {
     "name": "stderr",
     "output_type": "stream",
     "text": [
      "                                                                                         \r"
     ]
    },
    {
     "name": "stdout",
     "output_type": "stream",
     "text": [
      "Epoch[44] Train Loss: 2.8022   Validation Loss: 3.3805\n"
     ]
    },
    {
     "name": "stderr",
     "output_type": "stream",
     "text": [
      "                                                                                         \r"
     ]
    },
    {
     "name": "stdout",
     "output_type": "stream",
     "text": [
      "Epoch[45] Train Loss: 2.8288   Validation Loss: 2.7500\n"
     ]
    },
    {
     "name": "stderr",
     "output_type": "stream",
     "text": [
      "                                                                                         \r"
     ]
    },
    {
     "name": "stdout",
     "output_type": "stream",
     "text": [
      "Epoch[46] Train Loss: 2.8299   Validation Loss: 2.4190\n"
     ]
    },
    {
     "name": "stderr",
     "output_type": "stream",
     "text": [
      "                                                                                         \r"
     ]
    },
    {
     "name": "stdout",
     "output_type": "stream",
     "text": [
      "Epoch[47] Train Loss: 2.7930   Validation Loss: 3.0452\n"
     ]
    },
    {
     "name": "stderr",
     "output_type": "stream",
     "text": [
      "                                                                                         \r"
     ]
    },
    {
     "name": "stdout",
     "output_type": "stream",
     "text": [
      "Epoch[48] Train Loss: 2.7753   Validation Loss: 3.1066\n"
     ]
    },
    {
     "name": "stderr",
     "output_type": "stream",
     "text": [
      "                                                                                         \r"
     ]
    },
    {
     "name": "stdout",
     "output_type": "stream",
     "text": [
      "Epoch[49] Train Loss: 2.7513   Validation Loss: 2.4354\n"
     ]
    },
    {
     "name": "stderr",
     "output_type": "stream",
     "text": [
      "                                                                                         \r"
     ]
    },
    {
     "name": "stdout",
     "output_type": "stream",
     "text": [
      "Epoch[50] Train Loss: 2.7779   Validation Loss: 2.5859\n",
      "Test loss: 2.5721\n",
      "\n",
      "Training class: bicycle\n",
      "Number of samples: 3001\n",
      "Train set: 2161\n",
      "Validation set: 240\n",
      "Test set: 600\n"
     ]
    },
    {
     "name": "stderr",
     "output_type": "stream",
     "text": [
      "                                                                                        \r"
     ]
    },
    {
     "name": "stdout",
     "output_type": "stream",
     "text": [
      "Epoch[1] Train Loss: 5.1880   Validation Loss: 2.4510\n"
     ]
    },
    {
     "name": "stderr",
     "output_type": "stream",
     "text": [
      "                                                                                        \r"
     ]
    },
    {
     "name": "stdout",
     "output_type": "stream",
     "text": [
      "Epoch[2] Train Loss: 2.3186   Validation Loss: 2.2861\n"
     ]
    },
    {
     "name": "stderr",
     "output_type": "stream",
     "text": [
      "                                                                                        \r"
     ]
    },
    {
     "name": "stdout",
     "output_type": "stream",
     "text": [
      "Epoch[3] Train Loss: 2.2191   Validation Loss: 1.8520\n"
     ]
    },
    {
     "name": "stderr",
     "output_type": "stream",
     "text": [
      "                                                                                        \r"
     ]
    },
    {
     "name": "stdout",
     "output_type": "stream",
     "text": [
      "Epoch[4] Train Loss: 2.1572   Validation Loss: 4.2069\n"
     ]
    },
    {
     "name": "stderr",
     "output_type": "stream",
     "text": [
      "                                                                                        \r"
     ]
    },
    {
     "name": "stdout",
     "output_type": "stream",
     "text": [
      "Epoch[5] Train Loss: 2.1015   Validation Loss: 1.6488\n"
     ]
    },
    {
     "name": "stderr",
     "output_type": "stream",
     "text": [
      "                                                                                        \r"
     ]
    },
    {
     "name": "stdout",
     "output_type": "stream",
     "text": [
      "Epoch[6] Train Loss: 1.9060   Validation Loss: 1.7290\n"
     ]
    },
    {
     "name": "stderr",
     "output_type": "stream",
     "text": [
      "                                                                                        \r"
     ]
    },
    {
     "name": "stdout",
     "output_type": "stream",
     "text": [
      "Epoch[7] Train Loss: 2.4015   Validation Loss: 1.6770\n"
     ]
    },
    {
     "name": "stderr",
     "output_type": "stream",
     "text": [
      "                                                                                        \r"
     ]
    },
    {
     "name": "stdout",
     "output_type": "stream",
     "text": [
      "Epoch[8] Train Loss: 2.1323   Validation Loss: 2.0502\n"
     ]
    },
    {
     "name": "stderr",
     "output_type": "stream",
     "text": [
      "                                                                                        \r"
     ]
    },
    {
     "name": "stdout",
     "output_type": "stream",
     "text": [
      "Epoch[9] Train Loss: 2.0083   Validation Loss: 2.1493\n"
     ]
    },
    {
     "name": "stderr",
     "output_type": "stream",
     "text": [
      "                                                                                         \r"
     ]
    },
    {
     "name": "stdout",
     "output_type": "stream",
     "text": [
      "Epoch[10] Train Loss: 2.1684   Validation Loss: 2.3411\n"
     ]
    },
    {
     "name": "stderr",
     "output_type": "stream",
     "text": [
      "                                                                                         \r"
     ]
    },
    {
     "name": "stdout",
     "output_type": "stream",
     "text": [
      "Epoch[11] Train Loss: 2.0342   Validation Loss: 1.9395\n"
     ]
    },
    {
     "name": "stderr",
     "output_type": "stream",
     "text": [
      "                                                                                         \r"
     ]
    },
    {
     "name": "stdout",
     "output_type": "stream",
     "text": [
      "Epoch[12] Train Loss: 2.0475   Validation Loss: 2.3252\n"
     ]
    },
    {
     "name": "stderr",
     "output_type": "stream",
     "text": [
      "                                                                                         \r"
     ]
    },
    {
     "name": "stdout",
     "output_type": "stream",
     "text": [
      "Epoch[13] Train Loss: 2.0680   Validation Loss: 2.0730\n"
     ]
    },
    {
     "name": "stderr",
     "output_type": "stream",
     "text": [
      "                                                                                         \r"
     ]
    },
    {
     "name": "stdout",
     "output_type": "stream",
     "text": [
      "Epoch[14] Train Loss: 2.1008   Validation Loss: 2.0245\n"
     ]
    },
    {
     "name": "stderr",
     "output_type": "stream",
     "text": [
      "                                                                                         \r"
     ]
    },
    {
     "name": "stdout",
     "output_type": "stream",
     "text": [
      "Epoch[15] Train Loss: 2.1024   Validation Loss: 2.6811\n"
     ]
    },
    {
     "name": "stderr",
     "output_type": "stream",
     "text": [
      "                                                                                         \r"
     ]
    },
    {
     "name": "stdout",
     "output_type": "stream",
     "text": [
      "Epoch[16] Train Loss: 2.1018   Validation Loss: 3.7566\n"
     ]
    },
    {
     "name": "stderr",
     "output_type": "stream",
     "text": [
      "                                                                                         \r"
     ]
    },
    {
     "name": "stdout",
     "output_type": "stream",
     "text": [
      "Epoch[17] Train Loss: 2.0864   Validation Loss: 1.5300\n"
     ]
    },
    {
     "name": "stderr",
     "output_type": "stream",
     "text": [
      "                                                                                         \r"
     ]
    },
    {
     "name": "stdout",
     "output_type": "stream",
     "text": [
      "Epoch[18] Train Loss: 2.1190   Validation Loss: 2.0968\n"
     ]
    },
    {
     "name": "stderr",
     "output_type": "stream",
     "text": [
      "                                                                                         \r"
     ]
    },
    {
     "name": "stdout",
     "output_type": "stream",
     "text": [
      "Epoch[19] Train Loss: 2.3276   Validation Loss: 3.4748\n"
     ]
    },
    {
     "name": "stderr",
     "output_type": "stream",
     "text": [
      "                                                                                         \r"
     ]
    },
    {
     "name": "stdout",
     "output_type": "stream",
     "text": [
      "Epoch[20] Train Loss: 2.1554   Validation Loss: 2.4416\n"
     ]
    },
    {
     "name": "stderr",
     "output_type": "stream",
     "text": [
      "                                                                                         \r"
     ]
    },
    {
     "name": "stdout",
     "output_type": "stream",
     "text": [
      "Epoch[21] Train Loss: 2.3807   Validation Loss: 2.7922\n"
     ]
    },
    {
     "name": "stderr",
     "output_type": "stream",
     "text": [
      "                                                                                           \r"
     ]
    },
    {
     "name": "stdout",
     "output_type": "stream",
     "text": [
      "Epoch[22] Train Loss: 3.9156   Validation Loss: 5.1718\n"
     ]
    },
    {
     "name": "stderr",
     "output_type": "stream",
     "text": [
      "                                                                                         \r"
     ]
    },
    {
     "name": "stdout",
     "output_type": "stream",
     "text": [
      "Epoch[23] Train Loss: 2.7808   Validation Loss: 1.5827\n"
     ]
    },
    {
     "name": "stderr",
     "output_type": "stream",
     "text": [
      "                                                                                         \r"
     ]
    },
    {
     "name": "stdout",
     "output_type": "stream",
     "text": [
      "Epoch[24] Train Loss: 1.7886   Validation Loss: 1.7142\n"
     ]
    },
    {
     "name": "stderr",
     "output_type": "stream",
     "text": [
      "                                                                                         \r"
     ]
    },
    {
     "name": "stdout",
     "output_type": "stream",
     "text": [
      "Epoch[25] Train Loss: 1.8034   Validation Loss: 1.5379\n"
     ]
    },
    {
     "name": "stderr",
     "output_type": "stream",
     "text": [
      "                                                                                         \r"
     ]
    },
    {
     "name": "stdout",
     "output_type": "stream",
     "text": [
      "Epoch[26] Train Loss: 1.8099   Validation Loss: 1.8117\n"
     ]
    },
    {
     "name": "stderr",
     "output_type": "stream",
     "text": [
      "                                                                                         \r"
     ]
    },
    {
     "name": "stdout",
     "output_type": "stream",
     "text": [
      "Epoch[27] Train Loss: 1.8666   Validation Loss: 1.6659\n"
     ]
    },
    {
     "name": "stderr",
     "output_type": "stream",
     "text": [
      "                                                                                         \r"
     ]
    },
    {
     "name": "stdout",
     "output_type": "stream",
     "text": [
      "Epoch[28] Train Loss: 1.8699   Validation Loss: 1.9240\n"
     ]
    },
    {
     "name": "stderr",
     "output_type": "stream",
     "text": [
      "                                                                                         \r"
     ]
    },
    {
     "name": "stdout",
     "output_type": "stream",
     "text": [
      "Epoch[29] Train Loss: 1.8746   Validation Loss: 2.7031\n"
     ]
    },
    {
     "name": "stderr",
     "output_type": "stream",
     "text": [
      "                                                                                         \r"
     ]
    },
    {
     "name": "stdout",
     "output_type": "stream",
     "text": [
      "Epoch[30] Train Loss: 1.9130   Validation Loss: 2.3359\n"
     ]
    },
    {
     "name": "stderr",
     "output_type": "stream",
     "text": [
      "                                                                                         \r"
     ]
    },
    {
     "name": "stdout",
     "output_type": "stream",
     "text": [
      "Epoch[31] Train Loss: 1.9348   Validation Loss: 2.0792\n"
     ]
    },
    {
     "name": "stderr",
     "output_type": "stream",
     "text": [
      "                                                                                         \r"
     ]
    },
    {
     "name": "stdout",
     "output_type": "stream",
     "text": [
      "Epoch[32] Train Loss: 1.9131   Validation Loss: 2.3901\n"
     ]
    },
    {
     "name": "stderr",
     "output_type": "stream",
     "text": [
      "                                                                                         \r"
     ]
    },
    {
     "name": "stdout",
     "output_type": "stream",
     "text": [
      "Epoch[33] Train Loss: 1.9250   Validation Loss: 1.5353\n"
     ]
    },
    {
     "name": "stderr",
     "output_type": "stream",
     "text": [
      "                                                                                         \r"
     ]
    },
    {
     "name": "stdout",
     "output_type": "stream",
     "text": [
      "Epoch[34] Train Loss: 1.8805   Validation Loss: 2.4832\n"
     ]
    },
    {
     "name": "stderr",
     "output_type": "stream",
     "text": [
      "                                                                                         \r"
     ]
    },
    {
     "name": "stdout",
     "output_type": "stream",
     "text": [
      "Epoch[35] Train Loss: 1.9161   Validation Loss: 1.7501\n"
     ]
    },
    {
     "name": "stderr",
     "output_type": "stream",
     "text": [
      "                                                                                         \r"
     ]
    },
    {
     "name": "stdout",
     "output_type": "stream",
     "text": [
      "Epoch[36] Train Loss: 1.9276   Validation Loss: 2.8910\n"
     ]
    },
    {
     "name": "stderr",
     "output_type": "stream",
     "text": [
      "                                                                                         \r"
     ]
    },
    {
     "name": "stdout",
     "output_type": "stream",
     "text": [
      "Epoch[37] Train Loss: 1.8924   Validation Loss: 3.0267\n"
     ]
    },
    {
     "name": "stderr",
     "output_type": "stream",
     "text": [
      "                                                                                         \r"
     ]
    },
    {
     "name": "stdout",
     "output_type": "stream",
     "text": [
      "Epoch[38] Train Loss: 1.9556   Validation Loss: 4.0761\n"
     ]
    },
    {
     "name": "stderr",
     "output_type": "stream",
     "text": [
      "                                                                                         \r"
     ]
    },
    {
     "name": "stdout",
     "output_type": "stream",
     "text": [
      "Epoch[39] Train Loss: 2.1872   Validation Loss: 1.4421\n"
     ]
    },
    {
     "name": "stderr",
     "output_type": "stream",
     "text": [
      "                                                                                         \r"
     ]
    },
    {
     "name": "stdout",
     "output_type": "stream",
     "text": [
      "Epoch[40] Train Loss: 1.9683   Validation Loss: 1.5456\n"
     ]
    },
    {
     "name": "stderr",
     "output_type": "stream",
     "text": [
      "                                                                                         \r"
     ]
    },
    {
     "name": "stdout",
     "output_type": "stream",
     "text": [
      "Epoch[41] Train Loss: 2.0563   Validation Loss: 2.1322\n"
     ]
    },
    {
     "name": "stderr",
     "output_type": "stream",
     "text": [
      "                                                                                         \r"
     ]
    },
    {
     "name": "stdout",
     "output_type": "stream",
     "text": [
      "Epoch[42] Train Loss: 1.9854   Validation Loss: 1.8613\n"
     ]
    },
    {
     "name": "stderr",
     "output_type": "stream",
     "text": [
      "                                                                                         \r"
     ]
    },
    {
     "name": "stdout",
     "output_type": "stream",
     "text": [
      "Epoch[43] Train Loss: 2.0311   Validation Loss: 1.6347\n"
     ]
    },
    {
     "name": "stderr",
     "output_type": "stream",
     "text": [
      "                                                                                         \r"
     ]
    },
    {
     "name": "stdout",
     "output_type": "stream",
     "text": [
      "Epoch[44] Train Loss: 2.0127   Validation Loss: 2.0249\n"
     ]
    },
    {
     "name": "stderr",
     "output_type": "stream",
     "text": [
      "                                                                                         \r"
     ]
    },
    {
     "name": "stdout",
     "output_type": "stream",
     "text": [
      "Epoch[45] Train Loss: 2.0483   Validation Loss: 2.0986\n"
     ]
    },
    {
     "name": "stderr",
     "output_type": "stream",
     "text": [
      "                                                                                         \r"
     ]
    },
    {
     "name": "stdout",
     "output_type": "stream",
     "text": [
      "Epoch[46] Train Loss: 2.0109   Validation Loss: 3.3596\n"
     ]
    },
    {
     "name": "stderr",
     "output_type": "stream",
     "text": [
      "                                                                                         \r"
     ]
    },
    {
     "name": "stdout",
     "output_type": "stream",
     "text": [
      "Epoch[47] Train Loss: 2.1697   Validation Loss: 2.2070\n"
     ]
    },
    {
     "name": "stderr",
     "output_type": "stream",
     "text": [
      "                                                                                         \r"
     ]
    },
    {
     "name": "stdout",
     "output_type": "stream",
     "text": [
      "Epoch[48] Train Loss: 2.1595   Validation Loss: 1.9456\n"
     ]
    },
    {
     "name": "stderr",
     "output_type": "stream",
     "text": [
      "                                                                                         \r"
     ]
    },
    {
     "name": "stdout",
     "output_type": "stream",
     "text": [
      "Epoch[49] Train Loss: 2.0223   Validation Loss: 1.8156\n"
     ]
    },
    {
     "name": "stderr",
     "output_type": "stream",
     "text": [
      "                                                                                         \r"
     ]
    },
    {
     "name": "stdout",
     "output_type": "stream",
     "text": [
      "Epoch[50] Train Loss: 1.8393   Validation Loss: 2.0235\n",
      "Test loss: 2.0216\n",
      "\n",
      "Training class: butterfly\n",
      "Number of samples: 3001\n",
      "Train set: 2161\n",
      "Validation set: 240\n",
      "Test set: 600\n"
     ]
    },
    {
     "name": "stderr",
     "output_type": "stream",
     "text": [
      "                                                                                        \r"
     ]
    },
    {
     "name": "stdout",
     "output_type": "stream",
     "text": [
      "Epoch[1] Train Loss: 4.4109   Validation Loss: 2.0448\n"
     ]
    },
    {
     "name": "stderr",
     "output_type": "stream",
     "text": [
      "                                                                                        \r"
     ]
    },
    {
     "name": "stdout",
     "output_type": "stream",
     "text": [
      "Epoch[2] Train Loss: 1.9376   Validation Loss: 1.9610\n"
     ]
    },
    {
     "name": "stderr",
     "output_type": "stream",
     "text": [
      "                                                                                        \r"
     ]
    },
    {
     "name": "stdout",
     "output_type": "stream",
     "text": [
      "Epoch[3] Train Loss: 1.8540   Validation Loss: 3.2624\n"
     ]
    },
    {
     "name": "stderr",
     "output_type": "stream",
     "text": [
      "                                                                                        \r"
     ]
    },
    {
     "name": "stdout",
     "output_type": "stream",
     "text": [
      "Epoch[4] Train Loss: 1.9448   Validation Loss: 1.7870\n"
     ]
    },
    {
     "name": "stderr",
     "output_type": "stream",
     "text": [
      "                                                                                        \r"
     ]
    },
    {
     "name": "stdout",
     "output_type": "stream",
     "text": [
      "Epoch[5] Train Loss: 1.8846   Validation Loss: 2.8365\n"
     ]
    },
    {
     "name": "stderr",
     "output_type": "stream",
     "text": [
      "                                                                                        \r"
     ]
    },
    {
     "name": "stdout",
     "output_type": "stream",
     "text": [
      "Epoch[6] Train Loss: 1.8443   Validation Loss: 1.4948\n"
     ]
    },
    {
     "name": "stderr",
     "output_type": "stream",
     "text": [
      "                                                                                        \r"
     ]
    },
    {
     "name": "stdout",
     "output_type": "stream",
     "text": [
      "Epoch[7] Train Loss: 1.8353   Validation Loss: 1.8272\n"
     ]
    },
    {
     "name": "stderr",
     "output_type": "stream",
     "text": [
      "                                                                                        \r"
     ]
    },
    {
     "name": "stdout",
     "output_type": "stream",
     "text": [
      "Epoch[8] Train Loss: 1.8769   Validation Loss: 2.2366\n"
     ]
    },
    {
     "name": "stderr",
     "output_type": "stream",
     "text": [
      "                                                                                         \r"
     ]
    },
    {
     "name": "stdout",
     "output_type": "stream",
     "text": [
      "Epoch[9] Train Loss: 2.1755   Validation Loss: 2.0225\n"
     ]
    },
    {
     "name": "stderr",
     "output_type": "stream",
     "text": [
      "                                                                                         \r"
     ]
    },
    {
     "name": "stdout",
     "output_type": "stream",
     "text": [
      "Epoch[10] Train Loss: 1.8188   Validation Loss: 2.0795\n"
     ]
    },
    {
     "name": "stderr",
     "output_type": "stream",
     "text": [
      "                                                                                         \r"
     ]
    },
    {
     "name": "stdout",
     "output_type": "stream",
     "text": [
      "Epoch[11] Train Loss: 1.9334   Validation Loss: 3.0049\n"
     ]
    },
    {
     "name": "stderr",
     "output_type": "stream",
     "text": [
      "                                                                                         \r"
     ]
    },
    {
     "name": "stdout",
     "output_type": "stream",
     "text": [
      "Epoch[12] Train Loss: 1.9419   Validation Loss: 1.8873\n"
     ]
    },
    {
     "name": "stderr",
     "output_type": "stream",
     "text": [
      "                                                                                         \r"
     ]
    },
    {
     "name": "stdout",
     "output_type": "stream",
     "text": [
      "Epoch[13] Train Loss: 1.9658   Validation Loss: 4.3508\n"
     ]
    },
    {
     "name": "stderr",
     "output_type": "stream",
     "text": [
      "                                                                                         \r"
     ]
    },
    {
     "name": "stdout",
     "output_type": "stream",
     "text": [
      "Epoch[14] Train Loss: 1.9595   Validation Loss: 1.8737\n"
     ]
    },
    {
     "name": "stderr",
     "output_type": "stream",
     "text": [
      "                                                                                         \r"
     ]
    },
    {
     "name": "stdout",
     "output_type": "stream",
     "text": [
      "Epoch[15] Train Loss: 2.3428   Validation Loss: 1.5381\n"
     ]
    },
    {
     "name": "stderr",
     "output_type": "stream",
     "text": [
      "                                                                                         \r"
     ]
    },
    {
     "name": "stdout",
     "output_type": "stream",
     "text": [
      "Epoch[16] Train Loss: 1.5956   Validation Loss: 2.1606\n"
     ]
    },
    {
     "name": "stderr",
     "output_type": "stream",
     "text": [
      "                                                                                         \r"
     ]
    },
    {
     "name": "stdout",
     "output_type": "stream",
     "text": [
      "Epoch[17] Train Loss: 1.7331   Validation Loss: 2.2274\n"
     ]
    },
    {
     "name": "stderr",
     "output_type": "stream",
     "text": [
      "                                                                                         \r"
     ]
    },
    {
     "name": "stdout",
     "output_type": "stream",
     "text": [
      "Epoch[18] Train Loss: 1.8706   Validation Loss: 2.3089\n"
     ]
    },
    {
     "name": "stderr",
     "output_type": "stream",
     "text": [
      "                                                                                         \r"
     ]
    },
    {
     "name": "stdout",
     "output_type": "stream",
     "text": [
      "Epoch[19] Train Loss: 1.8549   Validation Loss: 1.7674\n"
     ]
    },
    {
     "name": "stderr",
     "output_type": "stream",
     "text": [
      "                                                                                         \r"
     ]
    },
    {
     "name": "stdout",
     "output_type": "stream",
     "text": [
      "Epoch[20] Train Loss: 1.8703   Validation Loss: 2.3610\n"
     ]
    },
    {
     "name": "stderr",
     "output_type": "stream",
     "text": [
      "                                                                                         \r"
     ]
    },
    {
     "name": "stdout",
     "output_type": "stream",
     "text": [
      "Epoch[21] Train Loss: 1.9158   Validation Loss: 2.0923\n"
     ]
    },
    {
     "name": "stderr",
     "output_type": "stream",
     "text": [
      "                                                                                         \r"
     ]
    },
    {
     "name": "stdout",
     "output_type": "stream",
     "text": [
      "Epoch[22] Train Loss: 1.9833   Validation Loss: 1.6467\n"
     ]
    },
    {
     "name": "stderr",
     "output_type": "stream",
     "text": [
      "                                                                                         \r"
     ]
    },
    {
     "name": "stdout",
     "output_type": "stream",
     "text": [
      "Epoch[23] Train Loss: 1.9221   Validation Loss: 2.8923\n"
     ]
    },
    {
     "name": "stderr",
     "output_type": "stream",
     "text": [
      "                                                                                         \r"
     ]
    },
    {
     "name": "stdout",
     "output_type": "stream",
     "text": [
      "Epoch[24] Train Loss: 1.9629   Validation Loss: 1.4902\n"
     ]
    },
    {
     "name": "stderr",
     "output_type": "stream",
     "text": [
      "                                                                                         \r"
     ]
    },
    {
     "name": "stdout",
     "output_type": "stream",
     "text": [
      "Epoch[25] Train Loss: 1.9994   Validation Loss: 1.7468\n"
     ]
    },
    {
     "name": "stderr",
     "output_type": "stream",
     "text": [
      "                                                                                         \r"
     ]
    },
    {
     "name": "stdout",
     "output_type": "stream",
     "text": [
      "Epoch[26] Train Loss: 2.0529   Validation Loss: 2.5116\n"
     ]
    },
    {
     "name": "stderr",
     "output_type": "stream",
     "text": [
      "                                                                                         \r"
     ]
    },
    {
     "name": "stdout",
     "output_type": "stream",
     "text": [
      "Epoch[27] Train Loss: 2.0513   Validation Loss: 2.7731\n"
     ]
    },
    {
     "name": "stderr",
     "output_type": "stream",
     "text": [
      "                                                                                         \r"
     ]
    },
    {
     "name": "stdout",
     "output_type": "stream",
     "text": [
      "Epoch[28] Train Loss: 1.9870   Validation Loss: 1.7968\n"
     ]
    },
    {
     "name": "stderr",
     "output_type": "stream",
     "text": [
      "                                                                                         \r"
     ]
    },
    {
     "name": "stdout",
     "output_type": "stream",
     "text": [
      "Epoch[29] Train Loss: 2.0538   Validation Loss: 1.5439\n"
     ]
    },
    {
     "name": "stderr",
     "output_type": "stream",
     "text": [
      "                                                                                         \r"
     ]
    },
    {
     "name": "stdout",
     "output_type": "stream",
     "text": [
      "Epoch[30] Train Loss: 2.1141   Validation Loss: 2.3898\n"
     ]
    },
    {
     "name": "stderr",
     "output_type": "stream",
     "text": [
      "                                                                                         \r"
     ]
    },
    {
     "name": "stdout",
     "output_type": "stream",
     "text": [
      "Epoch[31] Train Loss: 2.0941   Validation Loss: 2.3584\n"
     ]
    },
    {
     "name": "stderr",
     "output_type": "stream",
     "text": [
      "Epoch 32:  51%|█████▏    | 70/136 [01:55<01:48,  1.65s/it, G_loss=1.6980, D_loss=0.0906]"
     ]
    }
   ],
   "source": [
    "base_dir = \"./Datasets/\"\n",
    "classes = os.listdir(os.path.join(base_dir, \"bad_sketches\"))\n",
    "\n",
    "train_all_classes(base_dir, classes, batch_size=16, num_epochs=50)"
   ]
  },
  {
   "cell_type": "code",
   "execution_count": null,
   "metadata": {},
   "outputs": [],
   "source": []
  }
 ],
 "metadata": {
  "kernelspec": {
   "display_name": "base",
   "language": "python",
   "name": "python3"
  },
  "language_info": {
   "codemirror_mode": {
    "name": "ipython",
    "version": 3
   },
   "file_extension": ".py",
   "mimetype": "text/x-python",
   "name": "python",
   "nbconvert_exporter": "python",
   "pygments_lexer": "ipython3",
   "version": "3.9.18"
  }
 },
 "nbformat": 4,
 "nbformat_minor": 2
}
